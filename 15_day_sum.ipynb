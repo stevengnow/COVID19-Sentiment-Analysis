#-----------Modules--------------------------------------------------
import pandas as pd
import matplotlib.pyplot as plt
import datetime
pd.set_option('display.max_columns',100)
#------------Creating a Dictionary for days at the end of month------

dict1 ={'01':'31','02':'29','03':'31','04':'30','05':'31','06':'30','07':'31','08':'31','09':'30','10':'31',
           '11':'30'}
state_names = ["Alabama", 'Alaska','Arizona',"Arkansas",
               "California", "Colorado", "Connecticut",
               "District of Columbia", "Delaware", "Florida", "Georgia",
               "Hawaii", "Iowa", "Idaho", "Illinois", 
               "Indiana", 
               "Kansas", "Kentucky", "Louisiana", "Massachusetts", "Maryland",
               "Maine", "Michigan", 
               "Minnesota", "Missouri", "Mississippi","Montana", "North Carolina", "North Dakota",
               "Nebraska", "New Hampshire",
               "New Jersey", "New Mexico", "Nevada", "New York",
                "Ohio", "Oklahoma", "Oregon", "Pennsylvania","Rhode Island", "South Carolina", 
                 "South Dakota", "Tennessee", "Texas", "Utah", "Virginia",
                "Vermont", "Washington", "West Virginia","Wisconsin", "Wyoming"]

states = ["AL", "AK", "AZ", "AR",
          "CA", "CO", "CT",
          "DC", "DE", "FL", "GA", 
          "HI",'IA', "ID", "IL", "IN", 
          "KS", "KY", "LA", "MA", "MD", 
          "ME", "MI",
          'MN' ,"MO", "MS",'MT','NC','ND','NE', "NH",
          "NJ",  'NM','NV',
          'NY'  ,"OH", "OK", "OR", "PA", "RI", "SC", 
          "SD", "TN", "TX", "UT",  "VA","VT", "WA", "WV", "WI", "WY"]
          x= 45
#-----------------------CSV file-------------------------------------
df = pd.read_csv('https://query.data.world/s/tofgsyk2mqbcwudhhsdfcydxgrreru')
df.date = pd.to_datetime(df.date, utc = True)


#-------------Arrays for new DataFrame---------------------------------
state_array = []
dates_array = []
Fifteen_day_sum = []


month = '01'
month2 = '02'
x =0
#---------Calculates the fifteen day sum of new_cases_per_100_000--------
while(x < 51):
    month = '01'
    month2 = '02'
    state_array = []
    dates_array = []
    Fifteen_day_sum = []
    
    while (month != '11'):


        #-----convert month and day to into so it works for datetime function-


        day= int(dict1.get(month))
        month = int(month)

        #-----------Beginning Date for first 1
              date =datetime.datetime(2020,month,day)
        date_time = date.strftime("%m-%d-%Y")
        state_array.append(state_names[x])

        #--------------Storing Date in Array for new DataFrame

        temp_date = date;
        temp_date +=datetime.timedelta(days=1)
        temp_date = temp_date.strftime("%m-%d-%Y")
        dates_array.append(temp_date)




        month2 = int(month2)
        #----------Ending Date for for first 15-----------
        date =datetime.datetime(2020,month2,15)
        date_time1 = date.strftime("%m-%d-%Y")


        #--------------Storing Date in Array for new DataFrame-

        temp_date = date;
        temp_date = temp_date.strftime("%m-%d-%Y")
        dates_array.append(temp_date)

        #-------------Setting start day and end date-----------

        start_date = pd.to_datetime(date_time, utc= True)
        end_date = pd.to_datetime(date_time1, utc= True)
         dx = df.loc[(df['date'] > start_date) & (df['date'] <= end_date)]


        #-----grouping by state and summing up new_cases---------
        #-----Removing Columns and Rows that are not needed------
        #-----Then Appending to the list-------------------------
        state = dx.groupby(['state'])
        state = state.get_group(state_names[x])
        state_array.append(state_names[x])
        state = state.drop(state.iloc[:,:12], axis = 1)
        state = state.sum()
        Fifteen_day_sum.append(int(state['new_cases_per_100_000']))





        #---------Calculating second Half of month--------------------
        #--The following code is the name but for the next 15 days---



        month2 = date.strftime("%m")


        #---------------Returning Last day of month----------------
        dict1 ={'01':'31','02':'29','03':'31','04':'30','05':'31','06':'30','07':'31','08':'31','09':'30','10':'31',
               '11':'30'}
        day= int(dict1.get(month2))
        month2 = int(month2)
        date_2 = datetime.datetime(2020,month2,day)

        start_date = pd.to_datetime(date_time1, utc= True)
        end_date = pd.to_datetime(date_2, utc= True)
              dx = df.loc[(df['date'] > start_date) & (df['date'] <= end_date)]

        state = dx.groupby(['state'])
        state = state.get_group(state_names[x])
        state_array.append(state_names[x])
        state = state.drop(state.iloc[:,:12], axis = 1)
        state = state.sum()
        Fifteen_day_sum.append(int(state['new_cases_per_100_000']))




        #---------------Incrementing to the following month---------
        month = date.strftime("%m")
        date_2 +=datetime.timedelta(days=1)
        month2 = date_2.strftime("%m")
                
    if(x == 0):   
        d_new = pd.DataFrame(list(zip(dates_array,Fifteen_day_sum)),columns =['date',states[x]])
    else:
        d_new[states[x]] = Fifteen_day_sum
        
    x = x + 1


d_new.to_csv('All_states_15_day_intervals.csv')
print(d_new)
